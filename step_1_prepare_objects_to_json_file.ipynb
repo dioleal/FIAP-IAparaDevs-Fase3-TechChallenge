{
 "cells": [
  {
   "cell_type": "code",
   "execution_count": null,
   "id": "9b06e0c3",
   "metadata": {},
   "outputs": [],
   "source": [
    "#import\n",
    "import json"
   ]
  },
  {
   "cell_type": "code",
   "execution_count": null,
   "id": "3d9aebd0",
   "metadata": {},
   "outputs": [],
   "source": [
    "# Transformar Arquivo em Json Válido\n",
    "transformar_arquivo_json('dataset/LF-Amazon-1.3M.raw/LF-Amazon-1.3M/trn.json/trn.json', 'prepared_trn.json')\n"
   ]
  },
  {
   "cell_type": "code",
   "execution_count": null,
   "id": "af5aba62",
   "metadata": {},
   "outputs": [],
   "source": [
    "# Abrir arquivo json\n",
    "def transformar_arquivo_json(arquivo_reviews, arquivo_final):    \n",
    "    json = converter_linhas_em_json(arquivo_reviews)\n",
    "    salvar_como_lista_json(json,arquivo_final)\n",
    "\n",
    "# Transforma o arquivo de linhas em um objeto json válido\n",
    "def converter_linhas_em_json(linhas_tratar):\n",
    "\n",
    "    objetos = []\n",
    "    colunas_indesejadas = [\"uid\",\"target_ind\",\"target_rel\"]\n",
    "\n",
    "    with open(linhas_tratar, 'r', encoding=\"utf-8\") as file:\n",
    "        for linha in file: \n",
    "            linha = linha.strip()\n",
    "            if not linha:\n",
    "                continue\n",
    "\n",
    "            try:\n",
    "                obj = json.loads(linha)\n",
    "                if isinstance(obj, dict):\n",
    "                     # Remove colunas indesejadas\n",
    "                    obj_filtrado = {k: v for k, v in obj.items() if k not in colunas_indesejadas}\n",
    "\n",
    "                    # Verifica e remove se o campo 'content' estiver vazio ou nulo\n",
    "                    if 'content' in obj_filtrado and (obj_filtrado['content'] == \"\" or obj_filtrado['content'] is None):\n",
    "                        continue  # Não adiciona à lista\n",
    "                    objetos.append(obj_filtrado)\n",
    "                else:\n",
    "                    print(f\"[Ignorado] Objeto não é dicionário: {obj}\")\n",
    "    \n",
    "            except json.JSONDecodeError as e:\n",
    "                print(f\"Erro ao decodificar linha: {linha}\")\n",
    "                print(e)\n",
    "                \n",
    "    return objetos\n",
    "\n",
    "# Salva uma lista de objetos em um arquivo JSON válido \n",
    "def salvar_como_lista_json(objetos, caminho_saida):    \n",
    "    with open(caminho_saida, \"w\", encoding=\"utf-8\") as f:\n",
    "        json.dump({\"reviews_content\": objetos }, f, ensure_ascii=False, indent=2),\n",
    "        print(f\"Arquivo JSON válido salvo em: {caminho_saida}\")\n"
   ]
  }
 ],
 "metadata": {
  "kernelspec": {
   "display_name": "Python 3",
   "language": "python",
   "name": "python3"
  },
  "language_info": {
   "codemirror_mode": {
    "name": "ipython",
    "version": 3
   },
   "file_extension": ".py",
   "mimetype": "text/x-python",
   "name": "python",
   "nbconvert_exporter": "python",
   "pygments_lexer": "ipython3",
   "version": "3.12.7"
  }
 },
 "nbformat": 4,
 "nbformat_minor": 5
}
