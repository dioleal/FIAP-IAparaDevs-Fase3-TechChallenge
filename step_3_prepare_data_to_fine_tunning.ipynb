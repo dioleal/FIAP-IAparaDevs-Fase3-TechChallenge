{
 "cells": [
  {
   "cell_type": "code",
   "execution_count": 1,
   "id": "51183a6d",
   "metadata": {},
   "outputs": [],
   "source": [
    "import json\n",
    "\n",
    "def process_reviews_abstracts_file(file_path, processed_data):\n",
    "    #Lê um arquivo JSON do nosso dataset, processa cada notícia para formatar conforme o solicitado e adiciona à lista processed_data\n",
    "    with open(file_path, 'r', encoding='utf-8') as file:\n",
    "        json_data = json.load(file)\n",
    "        news_list = json_data[\"reviews_abstracts\"]\n",
    "\n",
    "        for item in news_list:\n",
    "            story = item[\"review\"]\n",
    "            summary = item[\"abstract\"]\n",
    "            formatted_text = f\"SUMMARIZE THIS REVIEW.\\n[|Review|] {story}[|eReviews|]\\n\\n[|Abstract|]{summary}[|eAbstract|]\"\n",
    "            processed_data.append({\"input\": formatted_text})\n"
   ]
  },
  {
   "cell_type": "code",
   "execution_count": 5,
   "id": "54901261",
   "metadata": {},
   "outputs": [
    {
     "name": "stdout",
     "output_type": "stream",
     "text": [
      "Todos os dados reformatados foram salvos em 'reviews_dataset_chat_data.json'.\n"
     ]
    }
   ],
   "source": [
    "# Lista para armazenar todos os dados processados\n",
    "processed_data = []\n",
    "\n",
    "# Adicionar dados processados do arquivo JSON regular à mesma lista\n",
    "process_reviews_abstracts_file('reviews_abstracts.json', processed_data)\n",
    "\n",
    "# Salvar todos os dados processados em um arquivo JSON\n",
    "output_filename = r'reviews_dataset_chat_data.json'\n",
    "with open(output_filename, 'w', encoding='utf-8') as file:\n",
    "    json.dump(processed_data, file, ensure_ascii=False, indent=4)\n",
    "\n",
    "print(f\"Todos os dados reformatados foram salvos em '{output_filename}'.\")\n"
   ]
  }
 ],
 "metadata": {
  "kernelspec": {
   "display_name": "Python 3",
   "language": "python",
   "name": "python3"
  },
  "language_info": {
   "codemirror_mode": {
    "name": "ipython",
    "version": 3
   },
   "file_extension": ".py",
   "mimetype": "text/x-python",
   "name": "python",
   "nbconvert_exporter": "python",
   "pygments_lexer": "ipython3",
   "version": "3.12.7"
  }
 },
 "nbformat": 4,
 "nbformat_minor": 5
}
