{
 "cells": [
  {
   "cell_type": "code",
   "execution_count": null,
   "id": "bce6d17d",
   "metadata": {},
   "outputs": [],
   "source": [
    "!pip install \"unsloth[colab-new] @ git+https://github.com/unslothai/unsloth.git\"\n",
    "!pip install --no-deps xformers \"trl<0.9.0\" peft accelerate bitsandbytes\n",
    "!pip install transformers datasets"
   ]
  },
  {
   "cell_type": "code",
   "execution_count": null,
   "id": "31945bdb",
   "metadata": {},
   "outputs": [],
   "source": [
    "from unsloth import FastLanguageModel, is_bfloat16_supported\n",
    "import torch\n",
    "import json\n",
    "from datasets import load_dataset\n",
    "from trl import SFTTrainer\n",
    "from transformers import TrainingArguments\n",
    "\n",
    "DATA_PATH = \"reviews_dataset_chat_data.json\"\n",
    "OUTPUT_PATH_DATASET = \"formatted_reviews_dataset_chat_data.json\"\n",
    "max_seq_length = 2048\n",
    "dtype = None\n",
    "load_in_4bit = True\n",
    "fourbit_models = [\n",
    "    \"unsloth/mistral-7b-v0.3-bnb-4bit\",\n",
    "    \"unsloth/mistral-7b-instruct-v0.3-bnb-4bit\",\n",
    "    \"unsloth/llama-3-8b-bnb-4bit\",\n",
    "    \"unsloth/llama-3-8b-Instruct-bnb-4bit\",\n",
    "    \"unsloth/llama-3-70b-bnb-4bit\",\n",
    "    \"unsloth/Phi-3-mini-4k-instruct\",\n",
    "    \"unsloth/Phi-3-medium-4k-instruct\",\n",
    "    \"unsloth/mistral-7b-bnb-4bit\",\n",
    "    \"unsloth/gemma-7b-bnb-4bit\",\n",
    "]\n"
   ]
  },
  {
   "cell_type": "code",
   "execution_count": 4,
   "id": "5cfdf528",
   "metadata": {},
   "outputs": [],
   "source": [
    "def format_dataset_into_model_input(data):\n",
    "    def separate_text(full_text):\n",
    "        reviews_start = full_text.find(\"[|Review|]\") + len(\"[|Review|]\")\n",
    "        reviews_end = full_text.find(\"[|eReview|]\")\n",
    "        abstract_start = full_text.find(\"[|Abstract|]\") + len(\"[|Abstract|]\")\n",
    "        abstract_end = full_text.find(\"[|eAbstract|]\")\n",
    "\n",
    "        instruction = full_text.split('\\n')[0]\n",
    "        input_text = full_text[reviews_start:reviews_end].strip()\n",
    "        response = full_text[abstract_start:abstract_end].strip()\n",
    "\n",
    "        return instruction, input_text, response\n",
    "\n",
    "    # Inicializando as listas para armazenar os dados\n",
    "    instructions = []\n",
    "    inputs = []\n",
    "    outputs = []\n",
    "\n",
    "    # Processando o dataset\n",
    "    for prompt in data['train']['input']:\n",
    "        instruction, input_text, response = separate_text(prompt)\n",
    "        instructions.append(instruction)\n",
    "        inputs.append(input_text)\n",
    "        outputs.append(response)\n",
    "\n",
    "    # Criando o dicionário final\n",
    "    formatted_data = {\n",
    "        \"instruction\": instructions,\n",
    "        \"input\": inputs,\n",
    "        \"output\": outputs\n",
    "    }\n",
    "\n",
    "    # Salvando o resultado em um arquivo JSON\n",
    "    with open(OUTPUT_PATH_DATASET, 'w') as output_file:\n",
    "        json.dump(formatted_data, output_file, indent=4)\n",
    "\n",
    "    print(f\"Dataset salvo em {OUTPUT_PATH_DATASET}\")"
   ]
  },
  {
   "cell_type": "code",
   "execution_count": 5,
   "id": "447b3f59",
   "metadata": {},
   "outputs": [
    {
     "ename": "NameError",
     "evalue": "name 'data' is not defined",
     "output_type": "error",
     "traceback": [
      "\u001b[1;31m---------------------------------------------------------------------------\u001b[0m",
      "\u001b[1;31mNameError\u001b[0m                                 Traceback (most recent call last)",
      "Cell \u001b[1;32mIn[5], line 1\u001b[0m\n\u001b[1;32m----> 1\u001b[0m format_dataset_into_model_input(\u001b[43mdata\u001b[49m)\n\u001b[0;32m      3\u001b[0m model, tokenizer \u001b[38;5;241m=\u001b[39m FastLanguageModel\u001b[38;5;241m.\u001b[39mfrom_pretrained(\n\u001b[0;32m      4\u001b[0m     model_name \u001b[38;5;241m=\u001b[39m \u001b[38;5;124m\"\u001b[39m\u001b[38;5;124munsloth/llama-3-8b-bnb-4bit\u001b[39m\u001b[38;5;124m\"\u001b[39m,\n\u001b[0;32m      5\u001b[0m     max_seq_length \u001b[38;5;241m=\u001b[39m max_seq_length,\n\u001b[0;32m      6\u001b[0m     dtype \u001b[38;5;241m=\u001b[39m dtype,\n\u001b[0;32m      7\u001b[0m     load_in_4bit \u001b[38;5;241m=\u001b[39m load_in_4bit,\n\u001b[0;32m      8\u001b[0m )\n",
      "\u001b[1;31mNameError\u001b[0m: name 'data' is not defined"
     ]
    }
   ],
   "source": [
    "\n",
    "format_dataset_into_model_input(data)\n",
    "\n",
    "model, tokenizer = FastLanguageModel.from_pretrained(\n",
    "    model_name = \"unsloth/llama-3-8b-bnb-4bit\",\n",
    "    max_seq_length = max_seq_length,\n",
    "    dtype = dtype,\n",
    "    load_in_4bit = load_in_4bit,\n",
    ")"
   ]
  }
 ],
 "metadata": {
  "kernelspec": {
   "display_name": "Python 3",
   "language": "python",
   "name": "python3"
  },
  "language_info": {
   "codemirror_mode": {
    "name": "ipython",
    "version": 3
   },
   "file_extension": ".py",
   "mimetype": "text/x-python",
   "name": "python",
   "nbconvert_exporter": "python",
   "pygments_lexer": "ipython3",
   "version": "3.12.7"
  }
 },
 "nbformat": 4,
 "nbformat_minor": 5
}
